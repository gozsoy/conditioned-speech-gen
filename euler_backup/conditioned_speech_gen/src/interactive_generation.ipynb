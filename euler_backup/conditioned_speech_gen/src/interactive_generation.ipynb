{
 "cells": [
  {
   "cell_type": "code",
   "execution_count": null,
   "source": [],
   "outputs": [],
   "metadata": {}
  },
  {
   "cell_type": "code",
   "execution_count": null,
   "source": [
    "import torch\n",
    "import numpy as np\n",
    "import pandas as pd\n",
    "\n",
    "from transformers import GPT2Tokenizer\n",
    "from model import Net\n",
    "\n",
    "# setting device on GPU if available, else CPU\n",
    "device = torch.device('cuda:0' if torch.cuda.is_available() else 'cpu')\n",
    "print(device)\n",
    "\n",
    "# use the same tokenizer used for fine-tuning\n",
    "tokenizer = GPT2Tokenizer.from_pretrained(\"EleutherAI/gpt-neo-125M\")\n",
    "tokenizer.pad_token = tokenizer.eos_token"
   ],
   "outputs": [],
   "metadata": {}
  },
  {
   "cell_type": "code",
   "execution_count": null,
   "source": [
    "# initialize model\n",
    "model = Net().to(device)\n",
    "\n",
    "# loading fine-tuned model from checkpoint\n",
    "'''checkpoint = torch.load('../checkpoints/speaker_name_as_prompt_deneme_best.pt',map_location=device)\n",
    "model.load_state_dict(checkpoint['model_state_dict'])\n",
    "model.eval()'''"
   ],
   "outputs": [],
   "metadata": {}
  },
  {
   "cell_type": "code",
   "execution_count": null,
   "source": [
    "inputs = tokenizer('Neil Abercrombie says the following:', return_tensors=\"pt\")\n",
    "\n",
    "gen_tokens = model.gpt_neo.generate(\n",
    "    inputs.input_ids,\n",
    "    do_sample=True,\n",
    "    num_beams=2,\n",
    "    temperature=0.9,\n",
    "    max_length=100,\n",
    ")\n",
    "tokenizer.decode(gen_tokens[0],skip_special_tokens=True)"
   ],
   "outputs": [],
   "metadata": {}
  }
 ],
 "metadata": {
  "orig_nbformat": 4,
  "language_info": {
   "name": "python",
   "version": "3.9.0",
   "mimetype": "text/x-python",
   "codemirror_mode": {
    "name": "ipython",
    "version": 3
   },
   "pygments_lexer": "ipython3",
   "nbconvert_exporter": "python",
   "file_extension": ".py"
  },
  "kernelspec": {
   "name": "python3",
   "display_name": "Python 3.9.0 64-bit ('cond_text_gen_project': conda)"
  },
  "interpreter": {
   "hash": "7918bf550cc222160dde757c7164fa6a3057e939eb504426b669afaa98f6c6cb"
  }
 },
 "nbformat": 4,
 "nbformat_minor": 2
}